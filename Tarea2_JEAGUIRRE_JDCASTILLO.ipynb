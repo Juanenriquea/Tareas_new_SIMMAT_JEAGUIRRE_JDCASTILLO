{
 "cells": [
  {
   "cell_type": "markdown",
   "metadata": {},
   "source": [
    "<img style=\"float: left; margin: 30px 15px 15px 15px;\" src=\"https://pngimage.net/wp-content/uploads/2018/06/logo-iteso-png-5.png\" width=\"300\" height=\"500\" /> \n",
    "    \n",
    "    \n",
    "### <font color='navy'> Simulación de procesos financieros. \n",
    "\n",
    "**Nombres:** Juan Enrique Aguirre López y Jesús Daniel Castillo Hernández.\n",
    "\n",
    "**Fecha:** 1ro de Septimebre del 2020.\n",
    "\n",
    "**Expediente** : IF722664, IF698367.\n",
    "**Profesor:** Oscar David Jaramillo Zuluaga.\n",
    "\n",
    "# Tarea 2: Clase 4\n",
    "\n",
    "Link para ir al respositorio: https://github.com/Juanenriquea/Tareas_SIMMAT_JEAGUIRRE_JDCASTILLO"
   ]
  },
  {
   "cell_type": "markdown",
   "metadata": {},
   "source": [
    "### Solución de Juan Enrique"
   ]
  },
  {
   "cell_type": "markdown",
   "metadata": {},
   "source": [
    "### Tarea:\n",
    "\n",
    "1. Imagine una rutina contable utilizada en una librería. Funciona en una lista con sublistas, que se ven así:\n",
    "![imagen.png](attachment:imagen.png)\n",
    "Escriba un programa en Python, que devuelve una lista con tuplas de tamaño 2. Cada tupla consiste en el número de pedido y el costo total del pedido. El producto debe aumentarse en 10€ si el valor de la orden es inferior a 100,00 €. \n",
    "Escribe un programa Python usando unicamente las funciones **lambda y map**.\n",
    "\n",
    "`orders = [ [\"34587\", \"Learning Python, Mark Lutz\", 4, 40.95], \n",
    "           [\"98762\", \"Programming Python, Mark Lutz\", 5, 56.80], \n",
    "           [\"77226\", \"Head First Python, Paul Barry\", 3,32.95],\n",
    "           [\"88112\", \"Einführung in Python3, Bernd Klein\", 3, 24.99]]`\n",
    "           \n",
    "2. La misma librería, pero esta vez trabajamos en una lista diferente. Las sublistas de nuestras listas se ven así: \n",
    "[número de orden, (número de artículo, cantidad, precio por unidad), ... (número de artículo, cantidad, precio por unidad)] \n",
    "\n",
    "`orders = [[1, (\"5464\", 4, 9.99), (\"8274\",18,12.99), (\"9744\", 9, 44.95)], \n",
    "\t       [2, (\"5464\", 9, 9.99), (\"9744\", 9, 44.95)],\n",
    "\t       [3, (\"5464\", 9, 9.99), (\"88112\", 11, 24.99)],\n",
    "           [4, (\"8732\", 7, 11.99), (\"7733\",11,18.99), (\"88112\", 5, 39.95)] ]`\n",
    "\n",
    "Escriba un programa que devuelva una lista de dos tuplas que tengan la información de (número de pedido, cantidad total de pedido). Utilice la función `Reduce`. Recuerde el precio del pedido del producto debe aumentarse en 10€ si el valor de la orden es inferior a 100,00 €.\n",
    "\n",
    "3. Resolver los anteriores ejercicios usando pandas (DataFrame)"
   ]
  },
  {
   "cell_type": "code",
   "execution_count": 1,
   "metadata": {},
   "outputs": [],
   "source": [
    "import numpy as np\n",
    "import time,math \n",
    "import matplotlib.pyplot as plt\n",
    "import pandas as pd\n",
    "from functools import reduce"
   ]
  },
  {
   "cell_type": "code",
   "execution_count": 7,
   "metadata": {},
   "outputs": [
    {
     "data": {
      "text/plain": [
       "[('34587', 163.8),\n",
       " ('98762', 284.0),\n",
       " ('77226', 108.85000000000001),\n",
       " ('88112', 84.97)]"
      ]
     },
     "execution_count": 7,
     "metadata": {},
     "output_type": "execute_result"
    }
   ],
   "source": [
    "# Problema 1\n",
    "orders = [ [\"34587\", \"Learning Python, Mark Lutz\", 4, 40.95], \n",
    "           [\"98762\", \"Programming Python, Mark Lutz\", 5, 56.80], \n",
    "           [\"77226\", \"Head First Python, Paul Barry\", 3,32.95],\n",
    "           [\"88112\", \"Einführung in Python3, Bernd Klein\", 3, 24.99]]\n",
    "\n",
    "p = lambda x,y: x*y\n",
    "def increase(value):\n",
    "    if (value<100):\n",
    "        value += 10\n",
    "    return value\n",
    "\n",
    "x = list(map(increase, [p(orders[i][2], orders[i][3]) for i in np.arange(len(orders))]))\n",
    "result = list(map(lambda x, y: (x[0], y), orders, x))\n",
    "result"
   ]
  },
  {
   "cell_type": "code",
   "execution_count": 8,
   "metadata": {},
   "outputs": [
    {
     "name": "stderr",
     "output_type": "stream",
     "text": [
      "<ipython-input-8-0c36aeefa08b>:24: SettingWithCopyWarning: \n",
      "A value is trying to be set on a copy of a slice from a DataFrame\n",
      "\n",
      "See the caveats in the documentation: https://pandas.pydata.org/pandas-docs/stable/user_guide/indexing.html#returning-a-view-versus-a-copy\n",
      "  pre['Costo total'][i] = orders_pd['Cantidad'][i]*orders_pd['Precio'][i]\n",
      "<ipython-input-8-0c36aeefa08b>:22: SettingWithCopyWarning: \n",
      "A value is trying to be set on a copy of a slice from a DataFrame\n",
      "\n",
      "See the caveats in the documentation: https://pandas.pydata.org/pandas-docs/stable/user_guide/indexing.html#returning-a-view-versus-a-copy\n",
      "  pre['Costo total'][i] = orders_pd['Cantidad'][i]*orders_pd['Precio'][i] +10\n"
     ]
    },
    {
     "data": {
      "text/html": [
       "<div>\n",
       "<style scoped>\n",
       "    .dataframe tbody tr th:only-of-type {\n",
       "        vertical-align: middle;\n",
       "    }\n",
       "\n",
       "    .dataframe tbody tr th {\n",
       "        vertical-align: top;\n",
       "    }\n",
       "\n",
       "    .dataframe thead th {\n",
       "        text-align: right;\n",
       "    }\n",
       "</style>\n",
       "<table border=\"1\" class=\"dataframe\">\n",
       "  <thead>\n",
       "    <tr style=\"text-align: right;\">\n",
       "      <th></th>\n",
       "      <th>Número de Pedido</th>\n",
       "      <th>Costo total</th>\n",
       "    </tr>\n",
       "  </thead>\n",
       "  <tbody>\n",
       "    <tr>\n",
       "      <th>0</th>\n",
       "      <td>34587</td>\n",
       "      <td>163.80</td>\n",
       "    </tr>\n",
       "    <tr>\n",
       "      <th>1</th>\n",
       "      <td>98762</td>\n",
       "      <td>284.00</td>\n",
       "    </tr>\n",
       "    <tr>\n",
       "      <th>2</th>\n",
       "      <td>77226</td>\n",
       "      <td>108.85</td>\n",
       "    </tr>\n",
       "    <tr>\n",
       "      <th>3</th>\n",
       "      <td>88112</td>\n",
       "      <td>84.97</td>\n",
       "    </tr>\n",
       "  </tbody>\n",
       "</table>\n",
       "</div>"
      ],
      "text/plain": [
       "   Número de Pedido  Costo total\n",
       "0             34587       163.80\n",
       "1             98762       284.00\n",
       "2             77226       108.85\n",
       "3             88112        84.97"
      ]
     },
     "execution_count": 8,
     "metadata": {},
     "output_type": "execute_result"
    }
   ],
   "source": [
    "# Problema 1, Usando Pandas\n",
    "\n",
    "orders_pd = pd.DataFrame({'Número de pedido': [34587, 98762, 77226, 88112], \n",
    "          'Titulo y Autor': [\"Learning Python, Mark Lutz\", \"Programming Python, Mark Lutz\", \"Head First Python, Paul Barry\", \n",
    "                                                                               \"Einführung in Python3, Bernd Klein\"],  \n",
    "          'Cantidad': [4, 5, 3, 3], 'Precio': [40.95, 56.80, 32.95, 24.99]})\n",
    "orders_pd\n",
    "\n",
    "orders_pd['Precio'] = orders_pd['Precio'].astype('float64')\n",
    "orders_pd['Cantidad'] = orders_pd['Cantidad'].astype('float64')\n",
    "\n",
    "pre = pd.DataFrame({'Número de Pedido': [34587, 98762, 77226, 88112], 'Costo total': [1,2,3,4]})\n",
    "\n",
    "pre['Costo total'] = pre['Costo total'].astype('float64')\n",
    "\n",
    "#def func1(pre):\n",
    "#    if orders_pd['Cantidad']*orders_pd['Precio'] < 100:\n",
    "#        pre['Costo total'][i] += 10 \n",
    "        \n",
    "for i in range(4):\n",
    "    if orders_pd['Cantidad'][i]*orders_pd['Precio'][i] < 100:\n",
    "        pre['Costo total'][i] = orders_pd['Cantidad'][i]*orders_pd['Precio'][i] +10\n",
    "    else:\n",
    "        pre['Costo total'][i] = orders_pd['Cantidad'][i]*orders_pd['Precio'][i]\n",
    "\n",
    "pre"
   ]
  },
  {
   "cell_type": "code",
   "execution_count": null,
   "metadata": {},
   "outputs": [],
   "source": []
  },
  {
   "cell_type": "code",
   "execution_count": 10,
   "metadata": {},
   "outputs": [
    {
     "data": {
      "text/plain": [
       "[(1, 688.3299999999999),\n",
       " (2, 504.46000000000004),\n",
       " (3, 374.79999999999995),\n",
       " (4, 502.57)]"
      ]
     },
     "execution_count": 10,
     "metadata": {},
     "output_type": "execute_result"
    }
   ],
   "source": [
    "# Problema 2\n",
    "\n",
    "orders2 = [[1, (\"5464\", 4, 9.99), (\"8274\",18,12.99), (\"9744\", 9, 44.95)], \n",
    "           [2, (\"5464\", 9, 9.99), (\"9744\", 9, 44.95)],\n",
    "           [3, (\"5464\", 9, 9.99), (\"88112\", 11, 24.99)],\n",
    "           [4, (\"8732\", 7, 11.99), (\"7733\",11,18.99), (\"88112\", 5, 39.95)] ]\n",
    "\n",
    "def increase(value):\n",
    "    if (value<100):\n",
    "        value += 10\n",
    "    return value\n",
    "\n",
    "r22 = list(map(lambda x: (x[0], sum(list(map(lambda y: increase(y[1]*y[2]), x[1:])))), orders2))\n",
    "r22"
   ]
  },
  {
   "cell_type": "code",
   "execution_count": 9,
   "metadata": {},
   "outputs": [
    {
     "name": "stderr",
     "output_type": "stream",
     "text": [
      "<ipython-input-9-b5ca0d6fef09>:14: SettingWithCopyWarning: \n",
      "A value is trying to be set on a copy of a slice from a DataFrame\n",
      "\n",
      "See the caveats in the documentation: https://pandas.pydata.org/pandas-docs/stable/user_guide/indexing.html#returning-a-view-versus-a-copy\n",
      "  pre2['Costo total 1'][j] = orders2_pd[1][j][1]*orders2_pd[1][j][2] + 10\n",
      "<ipython-input-9-b5ca0d6fef09>:22: SettingWithCopyWarning: \n",
      "A value is trying to be set on a copy of a slice from a DataFrame\n",
      "\n",
      "See the caveats in the documentation: https://pandas.pydata.org/pandas-docs/stable/user_guide/indexing.html#returning-a-view-versus-a-copy\n",
      "  pre2['Costo total 2'][j] = orders2_pd[2][j][1]*orders2_pd[2][j][2]\n",
      "<ipython-input-9-b5ca0d6fef09>:28: SettingWithCopyWarning: \n",
      "A value is trying to be set on a copy of a slice from a DataFrame\n",
      "\n",
      "See the caveats in the documentation: https://pandas.pydata.org/pandas-docs/stable/user_guide/indexing.html#returning-a-view-versus-a-copy\n",
      "  pre2['Costo total 3'][j] = orders2_pd[3][j][1]*orders2_pd[3][j][2]\n"
     ]
    },
    {
     "data": {
      "text/html": [
       "<div>\n",
       "<style scoped>\n",
       "    .dataframe tbody tr th:only-of-type {\n",
       "        vertical-align: middle;\n",
       "    }\n",
       "\n",
       "    .dataframe tbody tr th {\n",
       "        vertical-align: top;\n",
       "    }\n",
       "\n",
       "    .dataframe thead th {\n",
       "        text-align: right;\n",
       "    }\n",
       "</style>\n",
       "<table border=\"1\" class=\"dataframe\">\n",
       "  <thead>\n",
       "    <tr style=\"text-align: right;\">\n",
       "      <th></th>\n",
       "      <th>Número de Pedido</th>\n",
       "      <th>Costo total 1</th>\n",
       "      <th>Costo total 2</th>\n",
       "      <th>Costo total 3</th>\n",
       "    </tr>\n",
       "  </thead>\n",
       "  <tbody>\n",
       "    <tr>\n",
       "      <th>0</th>\n",
       "      <td>1</td>\n",
       "      <td>49.96</td>\n",
       "      <td>233.82</td>\n",
       "      <td>404.55</td>\n",
       "    </tr>\n",
       "    <tr>\n",
       "      <th>1</th>\n",
       "      <td>2</td>\n",
       "      <td>99.91</td>\n",
       "      <td>404.55</td>\n",
       "      <td>0.00</td>\n",
       "    </tr>\n",
       "    <tr>\n",
       "      <th>2</th>\n",
       "      <td>3</td>\n",
       "      <td>99.91</td>\n",
       "      <td>274.89</td>\n",
       "      <td>0.00</td>\n",
       "    </tr>\n",
       "    <tr>\n",
       "      <th>3</th>\n",
       "      <td>4</td>\n",
       "      <td>93.93</td>\n",
       "      <td>208.89</td>\n",
       "      <td>199.75</td>\n",
       "    </tr>\n",
       "  </tbody>\n",
       "</table>\n",
       "</div>"
      ],
      "text/plain": [
       "   Número de Pedido  Costo total 1  Costo total 2  Costo total 3\n",
       "0                 1          49.96         233.82         404.55\n",
       "1                 2          99.91         404.55           0.00\n",
       "2                 3          99.91         274.89           0.00\n",
       "3                 4          93.93         208.89         199.75"
      ]
     },
     "execution_count": 9,
     "metadata": {},
     "output_type": "execute_result"
    }
   ],
   "source": [
    "# Problema 2 con Pandas\n",
    "orders2 = [[1, (\"5464\", 4, 9.99), (\"8274\",18,12.99), (\"9744\", 9, 44.95)], \n",
    "          [2, (\"5464\", 9, 9.99), (\"9744\", 9, 44.95)],\n",
    "          [3, (\"5464\", 9, 9.99), (\"88112\", 11, 24.99)],\n",
    "          [4, (\"8732\", 7, 11.99), (\"7733\",11,18.99), (\"88112\", 5, 39.95)] ]\n",
    "orders2_pd = pd.DataFrame(orders2)\n",
    "orders2_pd = orders2_pd.fillna(0)\n",
    "\n",
    "pre2 = pd.DataFrame({'Número de Pedido': [1, 2, 3, 4], 'Costo total 1': [1.0,2.0,3.0,4.0], 'Costo total 2': [1.0,2.0,3.0,4.0], 'Costo total 3': [1.0,0.0,0.0,4.0]})\n",
    "\n",
    "\n",
    "for j in range(0,4):\n",
    "    if orders2_pd[1][j][1]*orders2_pd[1][j][2] < 100:\n",
    "        pre2['Costo total 1'][j] = orders2_pd[1][j][1]*orders2_pd[1][j][2] + 10\n",
    "    else:\n",
    "        pre2['Costo total 1'][j] = orders2_pd[1][j][1]*orders2_pd[1][j][2]\n",
    "\n",
    "for j in range(0,4):\n",
    "    if orders2_pd[2][j][1]*orders2_pd[2][j][2] < 100:\n",
    "        pre2['Costo total 2'][j] = orders2_pd[2][j][1]*orders2_pd[2][j][2] + 10\n",
    "    else:\n",
    "        pre2['Costo total 2'][j] = orders2_pd[2][j][1]*orders2_pd[2][j][2]\n",
    "\n",
    "for j in range(0,4,3):\n",
    "    if orders2_pd[3][j][1]*orders2_pd[3][j][2] < 100:\n",
    "        pre2['Costo total 3'][j] = orders2_pd[3][j][1]*orders2_pd[3][j][2] + 10\n",
    "    else:\n",
    "        pre2['Costo total 3'][j] = orders2_pd[3][j][1]*orders2_pd[3][j][2]\n",
    "        \n",
    "pre2"
   ]
  },
  {
   "cell_type": "markdown",
   "metadata": {},
   "source": [
    "4. Use filter to eliminate all words that are shorter than 4 letters from a list of words\n",
    "`listaaa='the notion of a lambda function goes all the way back to the origin of computer science'`"
   ]
  },
  {
   "cell_type": "code",
   "execution_count": 2,
   "metadata": {},
   "outputs": [
    {
     "data": {
      "text/plain": [
       "['notion',\n",
       " 'lambda',\n",
       " 'function',\n",
       " 'goes',\n",
       " 'back',\n",
       " 'origin',\n",
       " 'computer',\n",
       " 'science']"
      ]
     },
     "execution_count": 2,
     "metadata": {},
     "output_type": "execute_result"
    }
   ],
   "source": [
    "lista4 = 'the notion of a lambda function goes all the way back to the origin of computer science'\n",
    "\n",
    "#def m(n):    \n",
    "#    if len(n) >= 4:  \n",
    "#        return True     ESTA ERA PARA EN VES DE USAR EL LAMBDA, PONER 'm', AHI\n",
    "    \n",
    "list_new = lista4.split()\n",
    "list_new\n",
    "risa = list(filter(lambda x: len(x)>=4, list_new))\n",
    "risa"
   ]
  },
  {
   "cell_type": "markdown",
   "metadata": {},
   "source": [
    "5. Use filter to determine the percentage of Fahrenheit temperatures in a list are within the range 32 to 80"
   ]
  },
  {
   "cell_type": "code",
   "execution_count": 3,
   "metadata": {},
   "outputs": [
    {
     "name": "stdout",
     "output_type": "stream",
     "text": [
      "[ 35.97387961  99.13294268  92.6178302   99.69549478  63.21119535\n",
      "  73.90387697  95.50028838  99.21476553  36.98251238 101.45813729\n",
      " 100.5917418   89.38159435  89.52156589  83.8084752   28.37990868\n",
      "  68.75395211  45.86132067  36.58307493  56.32208365  33.96219302\n",
      "  45.29071318  74.86289938  66.51091383  88.19316186  94.26635864\n",
      "  46.83131624 109.60744472 109.68427993  44.55796499  92.84146259]\n"
     ]
    }
   ],
   "source": [
    "########### Solución 5\n",
    "import numpy as np\n",
    "np.random.seed(55555)\n",
    "temperatures = np.random.uniform(25,110,30)\n",
    "print(temperatures)"
   ]
  },
  {
   "cell_type": "code",
   "execution_count": 4,
   "metadata": {},
   "outputs": [
    {
     "data": {
      "text/plain": [
       "[35.97387961379455,\n",
       " 63.211195349983264,\n",
       " 73.90387696517755,\n",
       " 36.982512376595906,\n",
       " 68.75395211338406,\n",
       " 45.86132066984196,\n",
       " 36.58307493022292,\n",
       " 56.322083650154724,\n",
       " 33.9621930206693,\n",
       " 45.29071317816652,\n",
       " 74.86289938282341,\n",
       " 66.51091382521807,\n",
       " 46.831316244170544,\n",
       " 44.55796498523391]"
      ]
     },
     "execution_count": 4,
     "metadata": {},
     "output_type": "execute_result"
    }
   ],
   "source": [
    "# Problema 5\n",
    "sol5 = list(filter(lambda num: 30<num<80, temperatures))\n",
    "sol5"
   ]
  },
  {
   "cell_type": "markdown",
   "metadata": {},
   "source": [
    "6. Use reduce to find the lower left corner (minimum x and minimum y value) for a list of point locations\n",
    "> **Hint**: Explore the command `np.minimum.reduce` [link](https://docs.scipy.org/doc/numpy/reference/generated/numpy.ufunc.reduce.html)"
   ]
  },
  {
   "cell_type": "code",
   "execution_count": 5,
   "metadata": {},
   "outputs": [
    {
     "name": "stdout",
     "output_type": "stream",
     "text": [
      "[[17 97]\n",
      " [22 33]\n",
      " [37 46]\n",
      " [57 28]\n",
      " [11 25]\n",
      " [14  2]\n",
      " [74 16]\n",
      " [12 37]\n",
      " [35 21]\n",
      " [66 65]\n",
      " [86 58]\n",
      " [67 81]\n",
      " [ 0 48]\n",
      " [28 66]\n",
      " [76 22]\n",
      " [46 47]\n",
      " [64  7]\n",
      " [88 94]\n",
      " [65 13]\n",
      " [75 89]\n",
      " [23 17]\n",
      " [36 63]\n",
      " [62 36]\n",
      " [64 17]\n",
      " [18 19]\n",
      " [88 41]\n",
      " [21 49]\n",
      " [98 36]\n",
      " [81 73]\n",
      " [62 90]]\n"
     ]
    }
   ],
   "source": [
    "########### Solución 6\n",
    "np.random.seed(55555)\n",
    "point_xy = np.random.randint(0,100,[30,2])\n",
    "print(point_xy)"
   ]
  },
  {
   "cell_type": "code",
   "execution_count": 6,
   "metadata": {},
   "outputs": [
    {
     "data": {
      "text/plain": [
       "[0, 2]"
      ]
     },
     "execution_count": 6,
     "metadata": {},
     "output_type": "execute_result"
    }
   ],
   "source": [
    "# Problema 6\n",
    "sol5 = list(np.minimum.reduce(point_xy))\n",
    "sol5"
   ]
  },
  {
   "cell_type": "code",
   "execution_count": null,
   "metadata": {},
   "outputs": [],
   "source": []
  },
  {
   "cell_type": "markdown",
   "metadata": {},
   "source": [
    "### Solución de Jesús Daniel"
   ]
  },
  {
   "cell_type": "code",
   "execution_count": null,
   "metadata": {},
   "outputs": [],
   "source": [
    "## PROBLEMA 1\n",
    "\n",
    "#Escriba un programa en Python, que devuelve una lista con tuplas de tamaño 2.\n",
    "#Cada tupla consiste en el número de pedido y el costo total del pedido.\n",
    "#El producto debe aumentarse en 10€ si el valor de la orden es inferior a 100,00 €.\n",
    "#Escribe un programa Python usando unicamente las funciones lambda y map.\n",
    "\n",
    "orders1 = [ [\"34587\", \"Learning Python, Mark Lutz\", 4, 40.95], \n",
    "           [\"98762\", \"Programming Python, Mark Lutz\", 5, 56.80], \n",
    "           [\"77226\", \"Head First Python, Paul Barry\", 3,32.95],\n",
    "           [\"88112\", \"Einführung in Python3, Bernd Klein\", 3, 24.99]]\n",
    "\n",
    "\n",
    "sol1 = list(map(lambda x: (x[0], x[2]*x[3]) if x[2]*x[3] >= 100 else (x[0], x[2]*x[3]+10), orders1))\n",
    "sol1"
   ]
  },
  {
   "cell_type": "code",
   "execution_count": null,
   "metadata": {},
   "outputs": [],
   "source": [
    "## PROBLEMA 2\n",
    "\n",
    "#Escriba un programa que devuelva una lista de dos tuplas que tengan la información de:\n",
    "#(número de pedido, cantidad total de pedido).\n",
    "#Utilice la función Reduce.\n",
    "#Recuerde el precio del pedido del producto debe aumentarse en 10€ si el valor de la orden es inferior a 100,00 €.\n",
    "\n",
    "from functools import reduce\n",
    "\n",
    "orders2 = [[1, (\"5464\", 4, 9.99), (\"8274\",18,12.99), (\"9744\", 9, 44.95)], \n",
    "           [2, (\"5464\", 9, 9.99), (\"9744\", 9, 44.95)],\n",
    "           [3, (\"5464\", 9, 9.99), (\"88112\", 11, 24.99)],\n",
    "           [4, (\"8732\", 7, 11.99), (\"7733\",11,18.99), (\"88112\", 5, 39.95)] ]\n",
    "\n",
    "def comision(x):\n",
    "    if (x<100):\n",
    "        x += 10\n",
    "    return x\n",
    "\n",
    "sol2 = reduce(lambda x: (x[0], x[1](*y[2])"
   ]
  },
  {
   "cell_type": "code",
   "execution_count": null,
   "metadata": {},
   "outputs": [],
   "source": [
    "## PROBLEMA 3\n",
    "\n",
    "#Resolver los anteriores ejercicios usando pandas (DataFrame)\n",
    "\n",
    "import pandas as pd\n",
    "\n",
    "df_orders = pd.DataFrame(orders1)\n",
    "df_orders[4] = df_orders[2]*df_orders[3]\n",
    "\n",
    "def increase(value):\n",
    "    if (value<100):\n",
    "        value += 10\n",
    "    return value\n",
    "\n",
    "df_orders[5] = df_orders[4].apply(increase)\n",
    "df_orders = df_orders.drop(df_orders.columns[[1, 2, 3, 4]], axis=1)\n",
    "df_orders"
   ]
  },
  {
   "cell_type": "code",
   "execution_count": null,
   "metadata": {},
   "outputs": [],
   "source": [
    "## PROBLEMA 4\n",
    "\n",
    "#Use filter to eliminate all words that are shorter than 4 letters from a list of words\n",
    "\n",
    "string = 'the notion of a lambda function goes all the way back to the origin of computer science'\n",
    "string = string.split()\n",
    "\n",
    "sol4 = list(filter(lambda x: len(x) >= 4, string))\n",
    "sol4"
   ]
  },
  {
   "cell_type": "code",
   "execution_count": null,
   "metadata": {},
   "outputs": [],
   "source": [
    "## PROBLEMA 5\n",
    "\n",
    "#Use filter to determine the percentage of Fahrenheit temperatures in a list are within the range 32 to 80\n",
    "\n",
    "import numpy as np\n",
    "np.random.seed(55555)\n",
    "temperatures = np.random.uniform(25,110,30)\n",
    "\n",
    "\n",
    "sol5 = filter(lambda x: 30<x<80, temperatures)\n",
    "sol5"
   ]
  },
  {
   "cell_type": "code",
   "execution_count": null,
   "metadata": {},
   "outputs": [],
   "source": [
    "## PROBLEMA 6\n",
    "\n",
    "#Use reduce to find the lower left corner (minimum x and minimum y value) for a list of point locations\n",
    "\n",
    "np.random.seed(55555)\n",
    "point_xy = np.random.randint(0,100,[30,2])\n",
    "\n",
    "sol6 = np.minimum.reduce(point_xy)\n",
    "sol6"
   ]
  },
  {
   "cell_type": "code",
   "execution_count": null,
   "metadata": {},
   "outputs": [],
   "source": []
  }
 ],
 "metadata": {
  "kernelspec": {
   "display_name": "Python 3",
   "language": "python",
   "name": "python3"
  },
  "language_info": {
   "codemirror_mode": {
    "name": "ipython",
    "version": 3
   },
   "file_extension": ".py",
   "mimetype": "text/x-python",
   "name": "python",
   "nbconvert_exporter": "python",
   "pygments_lexer": "ipython3",
   "version": "3.8.3"
  }
 },
 "nbformat": 4,
 "nbformat_minor": 4
}
